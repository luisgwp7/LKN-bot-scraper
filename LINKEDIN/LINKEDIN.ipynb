{
 "cells": [
  {
   "cell_type": "code",
   "execution_count": 1,
   "metadata": {},
   "outputs": [],
   "source": [
    "import pandas as pd \n",
    "import os \n",
    "import time\n",
    "from datetime import datetime\n",
    "\n",
    "# Import your own modules \n",
    "from LKN.internal    import wsLinkedin\n",
    "from LKN.directories  import master_directory \n",
    "\n",
    "# Visual de data (permite ver todo un df)\n",
    "pd.set_option('display.max_rows', None)\n",
    "pd.set_option('display.max_columns', None)\n",
    "pd.set_option('display.max_colwidth', None)"
   ]
  },
  {
   "cell_type": "code",
   "execution_count": 8,
   "metadata": {},
   "outputs": [
    {
     "name": "stdout",
     "output_type": "stream",
     "text": [
      "c:\\Users\\lguerrero\\Documents\\LINKEDIN\\RESULTS\n"
     ]
    }
   ],
   "source": [
    "# Variables \n",
    "month = '01_ENE'       # Update each month\n",
    "year = '2025'       # Update if the year changes\n",
    "\n",
    "# Constants  \n",
    "WEB = 'LKN'\n",
    "auth_profile = 'your_auth_profile'  \n",
    "auth_code = 'your_auth_code'\n",
    "# Master directory\n",
    "master_dir = os.path.abspath(master_directory())\n",
    "print(master_dir)\n",
    "\n",
    "\n",
    "# Directories to export files \n",
    "result_dir = f'{master_dir}/JOIN'\n",
    "monitoring_dir = f'{master_dir}/MONITORING/{year}/{month}'\n",
    "\n",
    "# Export files \n",
    "###############################################################################################################\n",
    "# This files are going to be joined for create the master file, which contains all the data for the fron page\n",
    "fl_pre = f'{WEB}_join_{month}{year}_'\n",
    "\n",
    "fl_master = f'{WEB}_{month}{year}'\n"
   ]
  },
  {
   "cell_type": "code",
   "execution_count": 3,
   "metadata": {},
   "outputs": [],
   "source": [
    "df = pd.read_excel('input/base_consulta_linkedin.xlsx')"
   ]
  },
  {
   "cell_type": "code",
   "execution_count": 4,
   "metadata": {},
   "outputs": [],
   "source": [
    "df['Enlace'] = 'https://www.linkedin.com/search/results/people/?keywords=' + df['CONCATENADO'] +'&origin=GLOBAL_SEARCH_HEADER&sid=cuj'"
   ]
  },
  {
   "cell_type": "code",
   "execution_count": 5,
   "metadata": {},
   "outputs": [
    {
     "name": "stdout",
     "output_type": "stream",
     "text": [
      "You have created 30 DataFrames from df_enlaces:\n",
      "LKN_join_01_ENE2025_0\n",
      "LKN_join_01_ENE2025_10\n",
      "LKN_join_01_ENE2025_20\n",
      "LKN_join_01_ENE2025_30\n",
      "LKN_join_01_ENE2025_40\n",
      "LKN_join_01_ENE2025_50\n",
      "LKN_join_01_ENE2025_60\n",
      "LKN_join_01_ENE2025_70\n",
      "LKN_join_01_ENE2025_80\n",
      "LKN_join_01_ENE2025_90\n",
      "LKN_join_01_ENE2025_100\n",
      "LKN_join_01_ENE2025_110\n",
      "LKN_join_01_ENE2025_120\n",
      "LKN_join_01_ENE2025_130\n",
      "LKN_join_01_ENE2025_140\n",
      "LKN_join_01_ENE2025_150\n",
      "LKN_join_01_ENE2025_160\n",
      "LKN_join_01_ENE2025_170\n",
      "LKN_join_01_ENE2025_180\n",
      "LKN_join_01_ENE2025_190\n",
      "LKN_join_01_ENE2025_200\n",
      "LKN_join_01_ENE2025_210\n",
      "LKN_join_01_ENE2025_220\n",
      "LKN_join_01_ENE2025_230\n",
      "LKN_join_01_ENE2025_240\n",
      "LKN_join_01_ENE2025_250\n",
      "LKN_join_01_ENE2025_260\n",
      "LKN_join_01_ENE2025_270\n",
      "LKN_join_01_ENE2025_280\n",
      "LKN_join_01_ENE2025_290\n"
     ]
    }
   ],
   "source": [
    "df_enlaces = df.copy()\n",
    "# Divide the df in 10 observations for don't be catch in the scraping \n",
    "num_dfs = len(df_enlaces) // 10 + (1 if len(df_enlaces) % 10 != 0 else 0)\n",
    "\n",
    "dfs = {f'{fl_pre}{i}': df_enlaces.iloc[i:i+10] for i in range(0, len(df_enlaces), 10)}\n",
    "\n",
    "print(f'You have created {num_dfs} DataFrames from df_enlaces:')\n",
    "for key in dfs:\n",
    "    print(f'{key}')"
   ]
  },
  {
   "cell_type": "code",
   "execution_count": 9,
   "metadata": {},
   "outputs": [
    {
     "name": "stdout",
     "output_type": "stream",
     "text": [
      "The process started at 09:07 of 24/01/2025\n",
      "Realizando scraping en LKN_join_01_ENE2025_0...\n",
      "c:\\Users\\lguerrero\\Documents\\LINKEDIN\\DRIVER\\chromedriver.exe\n",
      "El proceso de scraping ha comenzado a las 09:08 del 24/01/2025\n",
      "Navegando a: https://www.linkedin.com/search/results/people/?keywords=JULIAN RUIZ ALMACENES CORONA&origin=GLOBAL_SEARCH_HEADER&sid=cuj\n",
      "Primer clic realizado en (460.48, 501.48)\n",
      "Regresando a la página anterior...\n",
      "Segundo clic realizado en (553.61, 779.83)\n",
      "Navegando a: https://www.linkedin.com/search/results/people/?keywords=CARLOS PÉREZ INGENIERÍA Y ARQUITECTURA&origin=GLOBAL_SEARCH_HEADER&sid=cuj\n",
      "Primer clic realizado en (468.79, 524.09)\n",
      "Regresando a la página anterior...\n",
      "Segundo clic realizado en (570.38, 731.98)\n",
      "Navegando a: https://www.linkedin.com/search/results/people/?keywords=HEISENBERG BURBANO INGENIERÍA Y DESARROLLO&origin=GLOBAL_SEARCH_HEADER&sid=cuj\n",
      "Primer clic realizado en (478.45, 519.04)\n",
      "Regresando a la página anterior...\n",
      "Segundo clic realizado en (580.12, 793.94)\n",
      "Navegando a: https://www.linkedin.com/search/results/people/?keywords=ERIKA MONROY ADIELA DE LOMBANA&origin=GLOBAL_SEARCH_HEADER&sid=cuj\n",
      "Primer clic realizado en (523.91, 581.77)\n",
      "Regresando a la página anterior...\n",
      "Segundo clic realizado en (565.28, 794.49)\n",
      "Navegando a: https://www.linkedin.com/search/results/people/?keywords=LUIS SALAMANCA CONSTRUCTORA BOLIVAR&origin=GLOBAL_SEARCH_HEADER&sid=cuj\n",
      "Primer clic realizado en (487.41, 516.94)\n",
      "Regresando a la página anterior...\n",
      "Segundo clic realizado en (584.56, 792.24)\n",
      "Navegando a: https://www.linkedin.com/search/results/people/?keywords=JULIANA SANTACRUZ CONSTRUCTORA BOLIVAR&origin=GLOBAL_SEARCH_HEADER&sid=cuj\n",
      "Primer clic realizado en (531.39, 521.86)\n",
      "Regresando a la página anterior...\n",
      "Segundo clic realizado en (568.57, 743.88)\n",
      "Navegando a: https://www.linkedin.com/search/results/people/?keywords=LUIS PÉREZ CAMARA DE COMERCIO&origin=GLOBAL_SEARCH_HEADER&sid=cuj\n",
      "Primer clic realizado en (480.74, 504.40)\n",
      "Regresando a la página anterior...\n",
      "Segundo clic realizado en (578.55, 745.81)\n",
      "Navegando a: https://www.linkedin.com/search/results/people/?keywords=JUAN JARAMILLO COMFAMILIAR RISARALDA&origin=GLOBAL_SEARCH_HEADER&sid=cuj\n",
      "Primer clic realizado en (476.41, 565.56)\n",
      "Regresando a la página anterior...\n",
      "Segundo clic realizado en (583.41, 710.50)\n",
      "Navegando a: https://www.linkedin.com/search/results/people/?keywords=DANIEL RESTREPO EQUIPOS DEL NORTE&origin=GLOBAL_SEARCH_HEADER&sid=cuj\n",
      "Primer clic realizado en (484.12, 541.54)\n",
      "Regresando a la página anterior...\n",
      "Segundo clic realizado en (566.35, 708.45)\n",
      "Navegando a: https://www.linkedin.com/search/results/people/?keywords=FABIO VELÁSQUEZ CONSTRUCTORA GRUPO 3&origin=GLOBAL_SEARCH_HEADER&sid=cuj\n",
      "Primer clic realizado en (466.19, 573.61)\n",
      "Regresando a la página anterior...\n",
      "Segundo clic realizado en (569.71, 770.15)\n"
     ]
    },
    {
     "data": {
      "text/html": [
       "<div style='background-color: #b8daba; padding: 10px; border: 1px solid #007723; border-radius: 5px;'><strong>IMBUEBLES DISPONIBLE:</strong> ¡El DataFrame de tamaño (10, 9) df_inmobiliarias de FINCA RAIZ está disponible para su análisis!</div>"
      ],
      "text/plain": [
       "<IPython.core.display.HTML object>"
      ]
     },
     "metadata": {},
     "output_type": "display_data"
    },
    {
     "name": "stdout",
     "output_type": "stream",
     "text": [
      "Realizando scraping en LKN_join_01_ENE2025_10...\n",
      "c:\\Users\\lguerrero\\Documents\\LINKEDIN\\DRIVER\\chromedriver.exe\n",
      "El proceso de scraping ha comenzado a las 09:12 del 24/01/2025\n",
      "Navegando a: https://www.linkedin.com/search/results/people/?keywords=LUIS CERVANTES EQUIPOS DEL NORTE&origin=GLOBAL_SEARCH_HEADER&sid=cuj\n",
      "Primer clic realizado en (478.03, 536.13)\n",
      "Regresando a la página anterior...\n",
      "Segundo clic realizado en (573.40, 727.37)\n",
      "Error al extraer datos: Message: no such window: target window already closed\n",
      "from unknown error: web view not found\n",
      "  (Session info: chrome=132.0.6834.83)\n",
      "Stacktrace:\n",
      "\tGetHandleVerifier [0x00007FF7B94FFB05+28789]\n",
      "\t(No symbol) [0x00007FF7B94686E0]\n",
      "\t(No symbol) [0x00007FF7B930592A]\n",
      "\t(No symbol) [0x00007FF7B92DF505]\n",
      "\t(No symbol) [0x00007FF7B9386477]\n",
      "\t(No symbol) [0x00007FF7B939EF42]\n",
      "\t(No symbol) [0x00007FF7B937F1E3]\n",
      "\t(No symbol) [0x00007FF7B934A938]\n",
      "\t(No symbol) [0x00007FF7B934BAA1]\n",
      "\tGetHandleVerifier [0x00007FF7B983933D+3410093]\n",
      "\tGetHandleVerifier [0x00007FF7B984E7DD+3497293]\n",
      "\tGetHandleVerifier [0x00007FF7B9842A73+3448803]\n",
      "\tGetHandleVerifier [0x00007FF7B95C7BBB+848171]\n",
      "\t(No symbol) [0x00007FF7B9473C3F]\n",
      "\t(No symbol) [0x00007FF7B946F6E4]\n",
      "\t(No symbol) [0x00007FF7B946F87D]\n",
      "\t(No symbol) [0x00007FF7B945ED49]\n",
      "\tBaseThreadInitThunk [0x00007FFC33C6E8D7+23]\n",
      "\tRtlUserThreadStart [0x00007FFC34B7FBCC+44]\n",
      "\n",
      "Se produjo un error al cargar el enlace: https://www.linkedin.com/search/results/people/?keywords=VALENTINA CORTES CONSTRUCTORA BOLÍVAR&origin=GLOBAL_SEARCH_HEADER&sid=cuj\n",
      "Excepción: Message: no such window: target window already closed\n",
      "from unknown error: web view not found\n",
      "  (Session info: chrome=132.0.6834.83)\n",
      "Stacktrace:\n",
      "\tGetHandleVerifier [0x00007FF7B94FFB05+28789]\n",
      "\t(No symbol) [0x00007FF7B94686E0]\n",
      "\t(No symbol) [0x00007FF7B930592A]\n",
      "\t(No symbol) [0x00007FF7B92DF505]\n",
      "\t(No symbol) [0x00007FF7B9386477]\n",
      "\t(No symbol) [0x00007FF7B939EF42]\n",
      "\t(No symbol) [0x00007FF7B937F1E3]\n",
      "\t(No symbol) [0x00007FF7B934A938]\n",
      "\t(No symbol) [0x00007FF7B934BAA1]\n",
      "\tGetHandleVerifier [0x00007FF7B983933D+3410093]\n",
      "\tGetHandleVerifier [0x00007FF7B984E7DD+3497293]\n",
      "\tGetHandleVerifier [0x00007FF7B9842A73+3448803]\n",
      "\tGetHandleVerifier [0x00007FF7B95C7BBB+848171]\n",
      "\t(No symbol) [0x00007FF7B9473C3F]\n",
      "\t(No symbol) [0x00007FF7B946F6E4]\n",
      "\t(No symbol) [0x00007FF7B946F87D]\n",
      "\t(No symbol) [0x00007FF7B945ED49]\n",
      "\tBaseThreadInitThunk [0x00007FFC33C6E8D7+23]\n",
      "\tRtlUserThreadStart [0x00007FFC34B7FBCC+44]\n",
      "\n",
      "Reiniciando el driver y continuando con el próximo enlace...\n"
     ]
    },
    {
     "ename": "KeyboardInterrupt",
     "evalue": "",
     "output_type": "error",
     "traceback": [
      "\u001b[1;31m---------------------------------------------------------------------------\u001b[0m",
      "\u001b[1;31mNoSuchWindowException\u001b[0m                     Traceback (most recent call last)",
      "File \u001b[1;32mc:\\Users\\lguerrero\\Documents\\LINKEDIN\\LINKEDIN\\LKN\\internal.py:153\u001b[0m, in \u001b[0;36mwsLinkedin\u001b[1;34m(df, auth_profile, auth_code)\u001b[0m\n\u001b[0;32m    152\u001b[0m \u001b[38;5;28;01mtry\u001b[39;00m:\n\u001b[1;32m--> 153\u001b[0m     \u001b[43mdriver\u001b[49m\u001b[38;5;241;43m.\u001b[39;49m\u001b[43mget\u001b[49m\u001b[43m(\u001b[49m\u001b[43mlink\u001b[49m\u001b[43m)\u001b[49m\n\u001b[0;32m    154\u001b[0m     \u001b[38;5;28mprint\u001b[39m(\u001b[38;5;124mf\u001b[39m\u001b[38;5;124m\"\u001b[39m\u001b[38;5;124mNavegando a: \u001b[39m\u001b[38;5;132;01m{\u001b[39;00mlink\u001b[38;5;132;01m}\u001b[39;00m\u001b[38;5;124m\"\u001b[39m)\n",
      "File \u001b[1;32mc:\\Users\\lguerrero\\Documents\\LINKEDIN\\myenv\\Lib\\site-packages\\selenium\\webdriver\\remote\\webdriver.py:454\u001b[0m, in \u001b[0;36mWebDriver.get\u001b[1;34m(self, url)\u001b[0m\n\u001b[0;32m    437\u001b[0m \u001b[38;5;250m\u001b[39m\u001b[38;5;124;03m\"\"\"Navigate the browser to the specified URL in the current window or\u001b[39;00m\n\u001b[0;32m    438\u001b[0m \u001b[38;5;124;03mtab.\u001b[39;00m\n\u001b[0;32m    439\u001b[0m \n\u001b[1;32m   (...)\u001b[0m\n\u001b[0;32m    452\u001b[0m \u001b[38;5;124;03m>>> driver.get(\"https://example.com\")\u001b[39;00m\n\u001b[0;32m    453\u001b[0m \u001b[38;5;124;03m\"\"\"\u001b[39;00m\n\u001b[1;32m--> 454\u001b[0m \u001b[38;5;28;43mself\u001b[39;49m\u001b[38;5;241;43m.\u001b[39;49m\u001b[43mexecute\u001b[49m\u001b[43m(\u001b[49m\u001b[43mCommand\u001b[49m\u001b[38;5;241;43m.\u001b[39;49m\u001b[43mGET\u001b[49m\u001b[43m,\u001b[49m\u001b[43m \u001b[49m\u001b[43m{\u001b[49m\u001b[38;5;124;43m\"\u001b[39;49m\u001b[38;5;124;43murl\u001b[39;49m\u001b[38;5;124;43m\"\u001b[39;49m\u001b[43m:\u001b[49m\u001b[43m \u001b[49m\u001b[43murl\u001b[49m\u001b[43m}\u001b[49m\u001b[43m)\u001b[49m\n",
      "File \u001b[1;32mc:\\Users\\lguerrero\\Documents\\LINKEDIN\\myenv\\Lib\\site-packages\\selenium\\webdriver\\remote\\webdriver.py:429\u001b[0m, in \u001b[0;36mWebDriver.execute\u001b[1;34m(self, driver_command, params)\u001b[0m\n\u001b[0;32m    428\u001b[0m \u001b[38;5;28;01mif\u001b[39;00m response:\n\u001b[1;32m--> 429\u001b[0m     \u001b[38;5;28;43mself\u001b[39;49m\u001b[38;5;241;43m.\u001b[39;49m\u001b[43merror_handler\u001b[49m\u001b[38;5;241;43m.\u001b[39;49m\u001b[43mcheck_response\u001b[49m\u001b[43m(\u001b[49m\u001b[43mresponse\u001b[49m\u001b[43m)\u001b[49m\n\u001b[0;32m    430\u001b[0m     response[\u001b[38;5;124m\"\u001b[39m\u001b[38;5;124mvalue\u001b[39m\u001b[38;5;124m\"\u001b[39m] \u001b[38;5;241m=\u001b[39m \u001b[38;5;28mself\u001b[39m\u001b[38;5;241m.\u001b[39m_unwrap_value(response\u001b[38;5;241m.\u001b[39mget(\u001b[38;5;124m\"\u001b[39m\u001b[38;5;124mvalue\u001b[39m\u001b[38;5;124m\"\u001b[39m, \u001b[38;5;28;01mNone\u001b[39;00m))\n",
      "File \u001b[1;32mc:\\Users\\lguerrero\\Documents\\LINKEDIN\\myenv\\Lib\\site-packages\\selenium\\webdriver\\remote\\errorhandler.py:232\u001b[0m, in \u001b[0;36mErrorHandler.check_response\u001b[1;34m(self, response)\u001b[0m\n\u001b[0;32m    231\u001b[0m     \u001b[38;5;28;01mraise\u001b[39;00m exception_class(message, screen, stacktrace, alert_text)  \u001b[38;5;66;03m# type: ignore[call-arg]  # mypy is not smart enough here\u001b[39;00m\n\u001b[1;32m--> 232\u001b[0m \u001b[38;5;28;01mraise\u001b[39;00m exception_class(message, screen, stacktrace)\n",
      "\u001b[1;31mNoSuchWindowException\u001b[0m: Message: no such window: target window already closed\nfrom unknown error: web view not found\n  (Session info: chrome=132.0.6834.83)\nStacktrace:\n\tGetHandleVerifier [0x00007FF7B94FFB05+28789]\n\t(No symbol) [0x00007FF7B94686E0]\n\t(No symbol) [0x00007FF7B930592A]\n\t(No symbol) [0x00007FF7B92DF505]\n\t(No symbol) [0x00007FF7B9386477]\n\t(No symbol) [0x00007FF7B939EF42]\n\t(No symbol) [0x00007FF7B937F1E3]\n\t(No symbol) [0x00007FF7B934A938]\n\t(No symbol) [0x00007FF7B934BAA1]\n\tGetHandleVerifier [0x00007FF7B983933D+3410093]\n\tGetHandleVerifier [0x00007FF7B984E7DD+3497293]\n\tGetHandleVerifier [0x00007FF7B9842A73+3448803]\n\tGetHandleVerifier [0x00007FF7B95C7BBB+848171]\n\t(No symbol) [0x00007FF7B9473C3F]\n\t(No symbol) [0x00007FF7B946F6E4]\n\t(No symbol) [0x00007FF7B946F87D]\n\t(No symbol) [0x00007FF7B945ED49]\n\tBaseThreadInitThunk [0x00007FFC33C6E8D7+23]\n\tRtlUserThreadStart [0x00007FFC34B7FBCC+44]\n",
      "\nDuring handling of the above exception, another exception occurred:\n",
      "\u001b[1;31mKeyboardInterrupt\u001b[0m                         Traceback (most recent call last)",
      "Cell \u001b[1;32mIn[9], line 8\u001b[0m\n\u001b[0;32m      6\u001b[0m \u001b[38;5;28;01mfor\u001b[39;00m df_key, df_value \u001b[38;5;129;01min\u001b[39;00m dfs\u001b[38;5;241m.\u001b[39mitems():\n\u001b[0;32m      7\u001b[0m     \u001b[38;5;28mprint\u001b[39m(\u001b[38;5;124mf\u001b[39m\u001b[38;5;124m\"\u001b[39m\u001b[38;5;124mRealizando scraping en \u001b[39m\u001b[38;5;132;01m{\u001b[39;00mdf_key\u001b[38;5;132;01m}\u001b[39;00m\u001b[38;5;124m...\u001b[39m\u001b[38;5;124m\"\u001b[39m)\n\u001b[1;32m----> 8\u001b[0m     scraped_data         \u001b[38;5;241m=\u001b[39m \u001b[43mwsLinkedin\u001b[49m\u001b[43m(\u001b[49m\u001b[43mdf_value\u001b[49m\u001b[43m,\u001b[49m\u001b[43mauth_profile\u001b[49m\u001b[43m,\u001b[49m\u001b[43mauth_code\u001b[49m\u001b[43m)\u001b[49m\n\u001b[0;32m      9\u001b[0m     scraped_data\u001b[38;5;241m.\u001b[39mto_parquet(\u001b[38;5;124mf\u001b[39m\u001b[38;5;124m'\u001b[39m\u001b[38;5;132;01m{\u001b[39;00mresult_dir\u001b[38;5;132;01m}\u001b[39;00m\u001b[38;5;124m/\u001b[39m\u001b[38;5;132;01m{\u001b[39;00mdf_key\u001b[38;5;132;01m}\u001b[39;00m\u001b[38;5;124m.parquet\u001b[39m\u001b[38;5;124m'\u001b[39m)\n\u001b[0;32m     11\u001b[0m     time\u001b[38;5;241m.\u001b[39msleep(\u001b[38;5;241m5\u001b[39m)\n",
      "File \u001b[1;32mc:\\Users\\lguerrero\\Documents\\LINKEDIN\\LINKEDIN\\LKN\\internal.py:202\u001b[0m, in \u001b[0;36mwsLinkedin\u001b[1;34m(df, auth_profile, auth_code)\u001b[0m\n\u001b[0;32m    200\u001b[0m     \u001b[38;5;28mprint\u001b[39m(\u001b[38;5;124mf\u001b[39m\u001b[38;5;124m\"\u001b[39m\u001b[38;5;124mExcepción: \u001b[39m\u001b[38;5;132;01m{\u001b[39;00m\u001b[38;5;28mstr\u001b[39m(e)\u001b[38;5;132;01m}\u001b[39;00m\u001b[38;5;124m\"\u001b[39m)\n\u001b[0;32m    201\u001b[0m     \u001b[38;5;28mprint\u001b[39m(\u001b[38;5;124m\"\u001b[39m\u001b[38;5;124mReiniciando el driver y continuando con el próximo enlace...\u001b[39m\u001b[38;5;124m\"\u001b[39m)\n\u001b[1;32m--> 202\u001b[0m     driver \u001b[38;5;241m=\u001b[39m \u001b[43mwebdriver\u001b[49m\u001b[38;5;241;43m.\u001b[39;49m\u001b[43mChrome\u001b[49m\u001b[43m(\u001b[49m\u001b[43mservice\u001b[49m\u001b[38;5;241;43m=\u001b[39;49m\u001b[43mservice\u001b[49m\u001b[43m,\u001b[49m\u001b[43m \u001b[49m\u001b[43moptions\u001b[49m\u001b[38;5;241;43m=\u001b[39;49m\u001b[43moptions\u001b[49m\u001b[43m)\u001b[49m\n\u001b[0;32m    204\u001b[0m \u001b[38;5;28;01melse\u001b[39;00m:\n\u001b[0;32m    205\u001b[0m     index \u001b[38;5;241m+\u001b[39m\u001b[38;5;241m=\u001b[39m \u001b[38;5;241m1\u001b[39m\n",
      "File \u001b[1;32mc:\\Users\\lguerrero\\Documents\\LINKEDIN\\myenv\\Lib\\site-packages\\selenium\\webdriver\\chrome\\webdriver.py:45\u001b[0m, in \u001b[0;36mWebDriver.__init__\u001b[1;34m(self, options, service, keep_alive)\u001b[0m\n\u001b[0;32m     42\u001b[0m service \u001b[38;5;241m=\u001b[39m service \u001b[38;5;28;01mif\u001b[39;00m service \u001b[38;5;28;01melse\u001b[39;00m Service()\n\u001b[0;32m     43\u001b[0m options \u001b[38;5;241m=\u001b[39m options \u001b[38;5;28;01mif\u001b[39;00m options \u001b[38;5;28;01melse\u001b[39;00m Options()\n\u001b[1;32m---> 45\u001b[0m \u001b[38;5;28;43msuper\u001b[39;49m\u001b[43m(\u001b[49m\u001b[43m)\u001b[49m\u001b[38;5;241;43m.\u001b[39;49m\u001b[38;5;21;43m__init__\u001b[39;49m\u001b[43m(\u001b[49m\n\u001b[0;32m     46\u001b[0m \u001b[43m    \u001b[49m\u001b[43mbrowser_name\u001b[49m\u001b[38;5;241;43m=\u001b[39;49m\u001b[43mDesiredCapabilities\u001b[49m\u001b[38;5;241;43m.\u001b[39;49m\u001b[43mCHROME\u001b[49m\u001b[43m[\u001b[49m\u001b[38;5;124;43m\"\u001b[39;49m\u001b[38;5;124;43mbrowserName\u001b[39;49m\u001b[38;5;124;43m\"\u001b[39;49m\u001b[43m]\u001b[49m\u001b[43m,\u001b[49m\n\u001b[0;32m     47\u001b[0m \u001b[43m    \u001b[49m\u001b[43mvendor_prefix\u001b[49m\u001b[38;5;241;43m=\u001b[39;49m\u001b[38;5;124;43m\"\u001b[39;49m\u001b[38;5;124;43mgoog\u001b[39;49m\u001b[38;5;124;43m\"\u001b[39;49m\u001b[43m,\u001b[49m\n\u001b[0;32m     48\u001b[0m \u001b[43m    \u001b[49m\u001b[43moptions\u001b[49m\u001b[38;5;241;43m=\u001b[39;49m\u001b[43moptions\u001b[49m\u001b[43m,\u001b[49m\n\u001b[0;32m     49\u001b[0m \u001b[43m    \u001b[49m\u001b[43mservice\u001b[49m\u001b[38;5;241;43m=\u001b[39;49m\u001b[43mservice\u001b[49m\u001b[43m,\u001b[49m\n\u001b[0;32m     50\u001b[0m \u001b[43m    \u001b[49m\u001b[43mkeep_alive\u001b[49m\u001b[38;5;241;43m=\u001b[39;49m\u001b[43mkeep_alive\u001b[49m\u001b[43m,\u001b[49m\n\u001b[0;32m     51\u001b[0m \u001b[43m\u001b[49m\u001b[43m)\u001b[49m\n",
      "File \u001b[1;32mc:\\Users\\lguerrero\\Documents\\LINKEDIN\\myenv\\Lib\\site-packages\\selenium\\webdriver\\chromium\\webdriver.py:50\u001b[0m, in \u001b[0;36mChromiumDriver.__init__\u001b[1;34m(self, browser_name, vendor_prefix, options, service, keep_alive)\u001b[0m\n\u001b[0;32m     47\u001b[0m \u001b[38;5;28mself\u001b[39m\u001b[38;5;241m.\u001b[39mservice \u001b[38;5;241m=\u001b[39m service\n\u001b[0;32m     49\u001b[0m finder \u001b[38;5;241m=\u001b[39m DriverFinder(\u001b[38;5;28mself\u001b[39m\u001b[38;5;241m.\u001b[39mservice, options)\n\u001b[1;32m---> 50\u001b[0m \u001b[38;5;28;01mif\u001b[39;00m \u001b[43mfinder\u001b[49m\u001b[38;5;241;43m.\u001b[39;49m\u001b[43mget_browser_path\u001b[49m\u001b[43m(\u001b[49m\u001b[43m)\u001b[49m:\n\u001b[0;32m     51\u001b[0m     options\u001b[38;5;241m.\u001b[39mbinary_location \u001b[38;5;241m=\u001b[39m finder\u001b[38;5;241m.\u001b[39mget_browser_path()\n\u001b[0;32m     52\u001b[0m     options\u001b[38;5;241m.\u001b[39mbrowser_version \u001b[38;5;241m=\u001b[39m \u001b[38;5;28;01mNone\u001b[39;00m\n",
      "File \u001b[1;32mc:\\Users\\lguerrero\\Documents\\LINKEDIN\\myenv\\Lib\\site-packages\\selenium\\webdriver\\common\\driver_finder.py:47\u001b[0m, in \u001b[0;36mDriverFinder.get_browser_path\u001b[1;34m(self)\u001b[0m\n\u001b[0;32m     46\u001b[0m \u001b[38;5;28;01mdef\u001b[39;00m\u001b[38;5;250m \u001b[39m\u001b[38;5;21mget_browser_path\u001b[39m(\u001b[38;5;28mself\u001b[39m) \u001b[38;5;241m-\u001b[39m\u001b[38;5;241m>\u001b[39m \u001b[38;5;28mstr\u001b[39m:\n\u001b[1;32m---> 47\u001b[0m     \u001b[38;5;28;01mreturn\u001b[39;00m \u001b[38;5;28;43mself\u001b[39;49m\u001b[38;5;241;43m.\u001b[39;49m\u001b[43m_binary_paths\u001b[49m\u001b[43m(\u001b[49m\u001b[43m)\u001b[49m[\u001b[38;5;124m\"\u001b[39m\u001b[38;5;124mbrowser_path\u001b[39m\u001b[38;5;124m\"\u001b[39m]\n",
      "File \u001b[1;32mc:\\Users\\lguerrero\\Documents\\LINKEDIN\\myenv\\Lib\\site-packages\\selenium\\webdriver\\common\\driver_finder.py:67\u001b[0m, in \u001b[0;36mDriverFinder._binary_paths\u001b[1;34m(self)\u001b[0m\n\u001b[0;32m     65\u001b[0m     \u001b[38;5;28mself\u001b[39m\u001b[38;5;241m.\u001b[39m_paths[\u001b[38;5;124m\"\u001b[39m\u001b[38;5;124mdriver_path\u001b[39m\u001b[38;5;124m\"\u001b[39m] \u001b[38;5;241m=\u001b[39m path\n\u001b[0;32m     66\u001b[0m \u001b[38;5;28;01melse\u001b[39;00m:\n\u001b[1;32m---> 67\u001b[0m     output \u001b[38;5;241m=\u001b[39m \u001b[43mSeleniumManager\u001b[49m\u001b[43m(\u001b[49m\u001b[43m)\u001b[49m\u001b[38;5;241;43m.\u001b[39;49m\u001b[43mbinary_paths\u001b[49m\u001b[43m(\u001b[49m\u001b[38;5;28;43mself\u001b[39;49m\u001b[38;5;241;43m.\u001b[39;49m\u001b[43m_to_args\u001b[49m\u001b[43m(\u001b[49m\u001b[43m)\u001b[49m\u001b[43m)\u001b[49m\n\u001b[0;32m     68\u001b[0m     \u001b[38;5;28;01mif\u001b[39;00m Path(output[\u001b[38;5;124m\"\u001b[39m\u001b[38;5;124mdriver_path\u001b[39m\u001b[38;5;124m\"\u001b[39m])\u001b[38;5;241m.\u001b[39mis_file():\n\u001b[0;32m     69\u001b[0m         \u001b[38;5;28mself\u001b[39m\u001b[38;5;241m.\u001b[39m_paths[\u001b[38;5;124m\"\u001b[39m\u001b[38;5;124mdriver_path\u001b[39m\u001b[38;5;124m\"\u001b[39m] \u001b[38;5;241m=\u001b[39m output[\u001b[38;5;124m\"\u001b[39m\u001b[38;5;124mdriver_path\u001b[39m\u001b[38;5;124m\"\u001b[39m]\n",
      "File \u001b[1;32mc:\\Users\\lguerrero\\Documents\\LINKEDIN\\myenv\\Lib\\site-packages\\selenium\\webdriver\\common\\selenium_manager.py:55\u001b[0m, in \u001b[0;36mSeleniumManager.binary_paths\u001b[1;34m(self, args)\u001b[0m\n\u001b[0;32m     52\u001b[0m args\u001b[38;5;241m.\u001b[39mappend(\u001b[38;5;124m\"\u001b[39m\u001b[38;5;124m--output\u001b[39m\u001b[38;5;124m\"\u001b[39m)\n\u001b[0;32m     53\u001b[0m args\u001b[38;5;241m.\u001b[39mappend(\u001b[38;5;124m\"\u001b[39m\u001b[38;5;124mjson\u001b[39m\u001b[38;5;124m\"\u001b[39m)\n\u001b[1;32m---> 55\u001b[0m \u001b[38;5;28;01mreturn\u001b[39;00m \u001b[38;5;28;43mself\u001b[39;49m\u001b[38;5;241;43m.\u001b[39;49m\u001b[43m_run\u001b[49m\u001b[43m(\u001b[49m\u001b[43margs\u001b[49m\u001b[43m)\u001b[49m\n",
      "File \u001b[1;32mc:\\Users\\lguerrero\\Documents\\LINKEDIN\\myenv\\Lib\\site-packages\\selenium\\webdriver\\common\\selenium_manager.py:117\u001b[0m, in \u001b[0;36mSeleniumManager._run\u001b[1;34m(args)\u001b[0m\n\u001b[0;32m    115\u001b[0m \u001b[38;5;28;01mtry\u001b[39;00m:\n\u001b[0;32m    116\u001b[0m     \u001b[38;5;28;01mif\u001b[39;00m sys\u001b[38;5;241m.\u001b[39mplatform \u001b[38;5;241m==\u001b[39m \u001b[38;5;124m\"\u001b[39m\u001b[38;5;124mwin32\u001b[39m\u001b[38;5;124m\"\u001b[39m:\n\u001b[1;32m--> 117\u001b[0m         completed_proc \u001b[38;5;241m=\u001b[39m \u001b[43msubprocess\u001b[49m\u001b[38;5;241;43m.\u001b[39;49m\u001b[43mrun\u001b[49m\u001b[43m(\u001b[49m\u001b[43margs\u001b[49m\u001b[43m,\u001b[49m\u001b[43m \u001b[49m\u001b[43mcapture_output\u001b[49m\u001b[38;5;241;43m=\u001b[39;49m\u001b[38;5;28;43;01mTrue\u001b[39;49;00m\u001b[43m,\u001b[49m\u001b[43m \u001b[49m\u001b[43mcreationflags\u001b[49m\u001b[38;5;241;43m=\u001b[39;49m\u001b[43msubprocess\u001b[49m\u001b[38;5;241;43m.\u001b[39;49m\u001b[43mCREATE_NO_WINDOW\u001b[49m\u001b[43m)\u001b[49m\n\u001b[0;32m    118\u001b[0m     \u001b[38;5;28;01melse\u001b[39;00m:\n\u001b[0;32m    119\u001b[0m         completed_proc \u001b[38;5;241m=\u001b[39m subprocess\u001b[38;5;241m.\u001b[39mrun(args, capture_output\u001b[38;5;241m=\u001b[39m\u001b[38;5;28;01mTrue\u001b[39;00m)\n",
      "File \u001b[1;32m~\\AppData\\Local\\anaconda3\\Lib\\subprocess.py:548\u001b[0m, in \u001b[0;36mrun\u001b[1;34m(input, capture_output, timeout, check, *popenargs, **kwargs)\u001b[0m\n\u001b[0;32m    545\u001b[0m     kwargs[\u001b[38;5;124m'\u001b[39m\u001b[38;5;124mstdout\u001b[39m\u001b[38;5;124m'\u001b[39m] \u001b[38;5;241m=\u001b[39m PIPE\n\u001b[0;32m    546\u001b[0m     kwargs[\u001b[38;5;124m'\u001b[39m\u001b[38;5;124mstderr\u001b[39m\u001b[38;5;124m'\u001b[39m] \u001b[38;5;241m=\u001b[39m PIPE\n\u001b[1;32m--> 548\u001b[0m \u001b[38;5;28;01mwith\u001b[39;00m \u001b[43mPopen\u001b[49m\u001b[43m(\u001b[49m\u001b[38;5;241;43m*\u001b[39;49m\u001b[43mpopenargs\u001b[49m\u001b[43m,\u001b[49m\u001b[43m \u001b[49m\u001b[38;5;241;43m*\u001b[39;49m\u001b[38;5;241;43m*\u001b[39;49m\u001b[43mkwargs\u001b[49m\u001b[43m)\u001b[49m \u001b[38;5;28;01mas\u001b[39;00m process:\n\u001b[0;32m    549\u001b[0m     \u001b[38;5;28;01mtry\u001b[39;00m:\n\u001b[0;32m    550\u001b[0m         stdout, stderr \u001b[38;5;241m=\u001b[39m process\u001b[38;5;241m.\u001b[39mcommunicate(\u001b[38;5;28minput\u001b[39m, timeout\u001b[38;5;241m=\u001b[39mtimeout)\n",
      "File \u001b[1;32m~\\AppData\\Local\\anaconda3\\Lib\\subprocess.py:1026\u001b[0m, in \u001b[0;36mPopen.__init__\u001b[1;34m(self, args, bufsize, executable, stdin, stdout, stderr, preexec_fn, close_fds, shell, cwd, env, universal_newlines, startupinfo, creationflags, restore_signals, start_new_session, pass_fds, user, group, extra_groups, encoding, errors, text, umask, pipesize, process_group)\u001b[0m\n\u001b[0;32m   1022\u001b[0m         \u001b[38;5;28;01mif\u001b[39;00m \u001b[38;5;28mself\u001b[39m\u001b[38;5;241m.\u001b[39mtext_mode:\n\u001b[0;32m   1023\u001b[0m             \u001b[38;5;28mself\u001b[39m\u001b[38;5;241m.\u001b[39mstderr \u001b[38;5;241m=\u001b[39m io\u001b[38;5;241m.\u001b[39mTextIOWrapper(\u001b[38;5;28mself\u001b[39m\u001b[38;5;241m.\u001b[39mstderr,\n\u001b[0;32m   1024\u001b[0m                     encoding\u001b[38;5;241m=\u001b[39mencoding, errors\u001b[38;5;241m=\u001b[39merrors)\n\u001b[1;32m-> 1026\u001b[0m     \u001b[38;5;28;43mself\u001b[39;49m\u001b[38;5;241;43m.\u001b[39;49m\u001b[43m_execute_child\u001b[49m\u001b[43m(\u001b[49m\u001b[43margs\u001b[49m\u001b[43m,\u001b[49m\u001b[43m \u001b[49m\u001b[43mexecutable\u001b[49m\u001b[43m,\u001b[49m\u001b[43m \u001b[49m\u001b[43mpreexec_fn\u001b[49m\u001b[43m,\u001b[49m\u001b[43m \u001b[49m\u001b[43mclose_fds\u001b[49m\u001b[43m,\u001b[49m\n\u001b[0;32m   1027\u001b[0m \u001b[43m                        \u001b[49m\u001b[43mpass_fds\u001b[49m\u001b[43m,\u001b[49m\u001b[43m \u001b[49m\u001b[43mcwd\u001b[49m\u001b[43m,\u001b[49m\u001b[43m \u001b[49m\u001b[43menv\u001b[49m\u001b[43m,\u001b[49m\n\u001b[0;32m   1028\u001b[0m \u001b[43m                        \u001b[49m\u001b[43mstartupinfo\u001b[49m\u001b[43m,\u001b[49m\u001b[43m \u001b[49m\u001b[43mcreationflags\u001b[49m\u001b[43m,\u001b[49m\u001b[43m \u001b[49m\u001b[43mshell\u001b[49m\u001b[43m,\u001b[49m\n\u001b[0;32m   1029\u001b[0m \u001b[43m                        \u001b[49m\u001b[43mp2cread\u001b[49m\u001b[43m,\u001b[49m\u001b[43m \u001b[49m\u001b[43mp2cwrite\u001b[49m\u001b[43m,\u001b[49m\n\u001b[0;32m   1030\u001b[0m \u001b[43m                        \u001b[49m\u001b[43mc2pread\u001b[49m\u001b[43m,\u001b[49m\u001b[43m \u001b[49m\u001b[43mc2pwrite\u001b[49m\u001b[43m,\u001b[49m\n\u001b[0;32m   1031\u001b[0m \u001b[43m                        \u001b[49m\u001b[43merrread\u001b[49m\u001b[43m,\u001b[49m\u001b[43m \u001b[49m\u001b[43merrwrite\u001b[49m\u001b[43m,\u001b[49m\n\u001b[0;32m   1032\u001b[0m \u001b[43m                        \u001b[49m\u001b[43mrestore_signals\u001b[49m\u001b[43m,\u001b[49m\n\u001b[0;32m   1033\u001b[0m \u001b[43m                        \u001b[49m\u001b[43mgid\u001b[49m\u001b[43m,\u001b[49m\u001b[43m \u001b[49m\u001b[43mgids\u001b[49m\u001b[43m,\u001b[49m\u001b[43m \u001b[49m\u001b[43muid\u001b[49m\u001b[43m,\u001b[49m\u001b[43m \u001b[49m\u001b[43mumask\u001b[49m\u001b[43m,\u001b[49m\n\u001b[0;32m   1034\u001b[0m \u001b[43m                        \u001b[49m\u001b[43mstart_new_session\u001b[49m\u001b[43m,\u001b[49m\u001b[43m \u001b[49m\u001b[43mprocess_group\u001b[49m\u001b[43m)\u001b[49m\n\u001b[0;32m   1035\u001b[0m \u001b[38;5;28;01mexcept\u001b[39;00m:\n\u001b[0;32m   1036\u001b[0m     \u001b[38;5;66;03m# Cleanup if the child failed starting.\u001b[39;00m\n\u001b[0;32m   1037\u001b[0m     \u001b[38;5;28;01mfor\u001b[39;00m f \u001b[38;5;129;01min\u001b[39;00m \u001b[38;5;28mfilter\u001b[39m(\u001b[38;5;28;01mNone\u001b[39;00m, (\u001b[38;5;28mself\u001b[39m\u001b[38;5;241m.\u001b[39mstdin, \u001b[38;5;28mself\u001b[39m\u001b[38;5;241m.\u001b[39mstdout, \u001b[38;5;28mself\u001b[39m\u001b[38;5;241m.\u001b[39mstderr)):\n",
      "File \u001b[1;32m~\\AppData\\Local\\anaconda3\\Lib\\subprocess.py:1538\u001b[0m, in \u001b[0;36mPopen._execute_child\u001b[1;34m(self, args, executable, preexec_fn, close_fds, pass_fds, cwd, env, startupinfo, creationflags, shell, p2cread, p2cwrite, c2pread, c2pwrite, errread, errwrite, unused_restore_signals, unused_gid, unused_gids, unused_uid, unused_umask, unused_start_new_session, unused_process_group)\u001b[0m\n\u001b[0;32m   1536\u001b[0m \u001b[38;5;66;03m# Start the process\u001b[39;00m\n\u001b[0;32m   1537\u001b[0m \u001b[38;5;28;01mtry\u001b[39;00m:\n\u001b[1;32m-> 1538\u001b[0m     hp, ht, pid, tid \u001b[38;5;241m=\u001b[39m \u001b[43m_winapi\u001b[49m\u001b[38;5;241;43m.\u001b[39;49m\u001b[43mCreateProcess\u001b[49m\u001b[43m(\u001b[49m\u001b[43mexecutable\u001b[49m\u001b[43m,\u001b[49m\u001b[43m \u001b[49m\u001b[43margs\u001b[49m\u001b[43m,\u001b[49m\n\u001b[0;32m   1539\u001b[0m \u001b[43m                             \u001b[49m\u001b[38;5;66;43;03m# no special security\u001b[39;49;00m\n\u001b[0;32m   1540\u001b[0m \u001b[43m                             \u001b[49m\u001b[38;5;28;43;01mNone\u001b[39;49;00m\u001b[43m,\u001b[49m\u001b[43m \u001b[49m\u001b[38;5;28;43;01mNone\u001b[39;49;00m\u001b[43m,\u001b[49m\n\u001b[0;32m   1541\u001b[0m \u001b[43m                             \u001b[49m\u001b[38;5;28;43mint\u001b[39;49m\u001b[43m(\u001b[49m\u001b[38;5;129;43;01mnot\u001b[39;49;00m\u001b[43m \u001b[49m\u001b[43mclose_fds\u001b[49m\u001b[43m)\u001b[49m\u001b[43m,\u001b[49m\n\u001b[0;32m   1542\u001b[0m \u001b[43m                             \u001b[49m\u001b[43mcreationflags\u001b[49m\u001b[43m,\u001b[49m\n\u001b[0;32m   1543\u001b[0m \u001b[43m                             \u001b[49m\u001b[43menv\u001b[49m\u001b[43m,\u001b[49m\n\u001b[0;32m   1544\u001b[0m \u001b[43m                             \u001b[49m\u001b[43mcwd\u001b[49m\u001b[43m,\u001b[49m\n\u001b[0;32m   1545\u001b[0m \u001b[43m                             \u001b[49m\u001b[43mstartupinfo\u001b[49m\u001b[43m)\u001b[49m\n\u001b[0;32m   1546\u001b[0m \u001b[38;5;28;01mfinally\u001b[39;00m:\n\u001b[0;32m   1547\u001b[0m     \u001b[38;5;66;03m# Child is launched. Close the parent's copy of those pipe\u001b[39;00m\n\u001b[0;32m   1548\u001b[0m     \u001b[38;5;66;03m# handles that only the child should have open.  You need\u001b[39;00m\n\u001b[1;32m   (...)\u001b[0m\n\u001b[0;32m   1551\u001b[0m     \u001b[38;5;66;03m# pipe will not close when the child process exits and the\u001b[39;00m\n\u001b[0;32m   1552\u001b[0m     \u001b[38;5;66;03m# ReadFile will hang.\u001b[39;00m\n\u001b[0;32m   1553\u001b[0m     \u001b[38;5;28mself\u001b[39m\u001b[38;5;241m.\u001b[39m_close_pipe_fds(p2cread, p2cwrite,\n\u001b[0;32m   1554\u001b[0m                          c2pread, c2pwrite,\n\u001b[0;32m   1555\u001b[0m                          errread, errwrite)\n",
      "\u001b[1;31mKeyboardInterrupt\u001b[0m: "
     ]
    }
   ],
   "source": [
    "try:\n",
    "    start_time = datetime.now()\n",
    "    print(f\"The process started at {start_time.strftime('%H:%M')} of {start_time.strftime('%d/%m/%Y')}\")\n",
    "\n",
    "    # Itearte for each df and scraped the data of each internal page\n",
    "    for df_key, df_value in dfs.items():\n",
    "        print(f\"Realizando scraping en {df_key}...\")\n",
    "        scraped_data         = wsLinkedin(df_value,auth_profile,auth_code)\n",
    "        scraped_data.to_parquet(f'{result_dir}/{df_key}.parquet')\n",
    "        \n",
    "        time.sleep(5)\n",
    "\n",
    "    end_time = datetime.now()\n",
    "    print(f\"The process ended at {end_time.strftime('%H:%M')} of {end_time.strftime('%d/%m/%Y')}\")\n",
    "    \n",
    "except Exception as e:\n",
    "    print(f\"Error: {e}\")\n"
   ]
  },
  {
   "cell_type": "code",
   "execution_count": null,
   "metadata": {},
   "outputs": [],
   "source": []
  },
  {
   "cell_type": "code",
   "execution_count": null,
   "metadata": {},
   "outputs": [],
   "source": []
  },
  {
   "cell_type": "code",
   "execution_count": null,
   "metadata": {},
   "outputs": [],
   "source": []
  },
  {
   "cell_type": "code",
   "execution_count": null,
   "metadata": {},
   "outputs": [],
   "source": []
  },
  {
   "cell_type": "code",
   "execution_count": null,
   "metadata": {},
   "outputs": [],
   "source": []
  },
  {
   "cell_type": "code",
   "execution_count": null,
   "metadata": {},
   "outputs": [],
   "source": []
  },
  {
   "cell_type": "code",
   "execution_count": null,
   "metadata": {},
   "outputs": [],
   "source": []
  },
  {
   "cell_type": "code",
   "execution_count": null,
   "metadata": {},
   "outputs": [],
   "source": []
  },
  {
   "cell_type": "code",
   "execution_count": null,
   "metadata": {},
   "outputs": [],
   "source": []
  },
  {
   "cell_type": "code",
   "execution_count": null,
   "metadata": {},
   "outputs": [],
   "source": []
  },
  {
   "cell_type": "code",
   "execution_count": null,
   "metadata": {},
   "outputs": [],
   "source": []
  }
 ],
 "metadata": {
  "kernelspec": {
   "display_name": "myenv",
   "language": "python",
   "name": "python3"
  },
  "language_info": {
   "codemirror_mode": {
    "name": "ipython",
    "version": 3
   },
   "file_extension": ".py",
   "mimetype": "text/x-python",
   "name": "python",
   "nbconvert_exporter": "python",
   "pygments_lexer": "ipython3",
   "version": "3.12.4"
  }
 },
 "nbformat": 4,
 "nbformat_minor": 2
}
